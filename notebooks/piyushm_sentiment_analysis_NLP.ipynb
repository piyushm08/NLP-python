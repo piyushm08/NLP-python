{
 "cells": [
  {
   "cell_type": "markdown",
   "metadata": {
    "_cell_guid": "88051c3d-4a44-4ec6-8adb-c1d38653e94d",
    "_uuid": "71fff663eb9075c63db6ddd0904379ffbcdcad20"
   },
   "source": [
    "# Sentiment Analysis - NLP toolkit\n",
    "\n",
    "\n",
    "### Task description\n",
    "\n",
    "Here, the goal is to predict sentiment -- the emotional intent behind a statement -- from text. For example, the sentence: \"*This movie was terrible!\"* has a negative sentiment, whereas \"*loved this cinematic masterpiece*\" has a positive sentiment.\n",
    "\n",
    "To simplify the task, consider sentiment binary: labels of `1` indicate a sentence has a positive sentiment, and labels of `0` indicate that the sentence has a negative sentiment.\n",
    "\n",
    "### Dataset\n",
    "\n",
    "The dataset is split across three files, representing three different sources -- Amazon, Yelp and IMDB. Your task is to build a sentiment analysis model using both the Yelp and IMDB data as your training-set, and test the performance of your model on the Amazon data."
   ]
  },
  {
   "cell_type": "code",
   "execution_count": 1,
   "metadata": {
    "_cell_guid": "b1076dfc-b9ad-4769-8c92-a6c4dae69d19",
    "_uuid": "8f2839f25d086af736a60e9eeb907d3b93b6e0e5"
   },
   "outputs": [
    {
     "name": "stdout",
     "output_type": "stream",
     "text": [
      "['amazon_cells_labelled.txt', 'readme.txt', 'yelp_labelled.txt', 'imdb_labelled.txt']\n"
     ]
    }
   ],
   "source": [
    "import os\n",
    "print(os.listdir(\"../input\"))"
   ]
  },
  {
   "cell_type": "code",
   "execution_count": 2,
   "metadata": {
    "_cell_guid": "79c7e3d0-c299-4dcb-8224-4455121ee9b0",
    "_uuid": "d629ff2d2480ee46fbb7e2d37f6b5fab8052498a",
    "scrolled": true
   },
   "outputs": [
    {
     "name": "stdout",
     "output_type": "stream",
     "text": [
      "So there is no way for me to plug it in here in the US unless I go by a converter.\t0\n",
      "Good case, Excellent value.\t1\n",
      "Great for the jawbone.\t1\n",
      "Tied to charger for conversations lasting more than 45 minutes.MAJOR PROBLEMS!!\t0\n",
      "The mic is great.\t1\n",
      "I have to jiggle the plug to get it to line up right to get decent volume.\t0\n",
      "If you have several dozen or several hundred contacts, then imagine the fun of sending each of them one by one.\t0\n",
      "If you are Razr owner...you must have this!\t1\n",
      "Needless to say, I wasted my money.\t0\n",
      "What a waste of money and time!.\t0\n"
     ]
    }
   ],
   "source": [
    "!head \"../input/amazon_cells_labelled.txt\""
   ]
  },
  {
   "cell_type": "code",
   "execution_count": 3,
   "metadata": {
    "_uuid": "739fe1d6c3e306b154509a816b9055fa24e9f43d"
   },
   "outputs": [
    {
     "name": "stderr",
     "output_type": "stream",
     "text": [
      "/Users/piyushm/anaconda2/lib/python2.7/site-packages/sklearn/ensemble/weight_boosting.py:29: DeprecationWarning: numpy.core.umath_tests is an internal NumPy module and should not be imported. It will be removed in a future NumPy release.\n",
      "  from numpy.core.umath_tests import inner1d\n"
     ]
    }
   ],
   "source": [
    "# import libraries\n",
    "import os\n",
    "import string\n",
    "import warnings\n",
    "import re\n",
    "import time\n",
    "\n",
    "import pandas as pd # for importing files as pandas dataframe\n",
    "pd.set_option('display.max_colwidth', 50) # display setting\n",
    "\n",
    "import numpy as np # for numerical computing\n",
    "\n",
    "import nltk\n",
    "from nltk import sent_tokenize, word_tokenize\n",
    "from nltk.corpus import stopwords\n",
    "from nltk.stem import WordNetLemmatizer\n",
    "\n",
    "from sklearn.feature_extraction.text import TfidfVectorizer, TfidfTransformer\n",
    "\n",
    "from sklearn.model_selection import train_test_split\n",
    "from sklearn.pipeline import Pipeline\n",
    "from sklearn.model_selection import GridSearchCV\n",
    "from sklearn.metrics import accuracy_score, roc_auc_score, make_scorer\n",
    "from sklearn.metrics import precision_recall_fscore_support as score\n",
    "\n",
    "from sklearn.externals import joblib\n",
    "from sklearn.linear_model import LogisticRegression\n",
    "from sklearn.linear_model import SGDClassifier\n",
    "from sklearn.ensemble import RandomForestClassifier\n",
    "from sklearn.ensemble import GradientBoostingClassifier\n",
    "from sklearn import svm\n",
    "\n",
    "#pip install wordcloud\n",
    "from wordcloud import WordCloud\n",
    "import operator\n",
    "\n",
    "import matplotlib.pyplot as plt # plotting functions\n",
    "%matplotlib inline"
   ]
  },
  {
   "cell_type": "markdown",
   "metadata": {
    "_cell_guid": "b90a24c0-3e04-4757-b7c4-ec0ca29b45dc",
    "_uuid": "9198489f47138dda5b0a3efdb3779e7471a0b1f4"
   },
   "source": [
    "# Tasks\n",
    "### 1. Read and concatenate data into test and train sets."
   ]
  },
  {
   "cell_type": "code",
   "execution_count": 10,
   "metadata": {
    "_cell_guid": "9b5d3124-471b-4803-838e-dbd2a353a2c5",
    "_uuid": "687c753267f807cee7b492223aca41515269dcd9"
   },
   "outputs": [],
   "source": [
    "# 1a. Import csv files as pandas data frames\n",
    "\n",
    "# training data files\n",
    "yelp = pd.read_csv('../input/yelp_labelled.txt', sep='\\t', names=['body_text','class'])\n",
    "imdb = pd.read_csv('../input/imdb_labelled.txt', sep='\\t', names=['body_text', 'class'])\n",
    "\n",
    "# test data file\n",
    "amazon = pd.read_csv('../input/amazon_cells_labelled.txt', sep='\\t', names=['body_text','class'])"
   ]
  },
  {
   "cell_type": "code",
   "execution_count": 11,
   "metadata": {
    "_uuid": "a2138b0580bfb008b3a17eb819e3367200a1e550"
   },
   "outputs": [
    {
     "name": "stdout",
     "output_type": "stream",
     "text": [
      "                0       1       2\n",
      "body_text  object  object  object\n",
      "class       int64   int64   int64\n",
      "\n",
      "\n",
      "((1000, 2), (748, 2), (1000, 2))\n",
      "\n",
      "\n"
     ]
    },
    {
     "data": {
      "text/html": [
       "<div>\n",
       "<style scoped>\n",
       "    .dataframe tbody tr th:only-of-type {\n",
       "        vertical-align: middle;\n",
       "    }\n",
       "\n",
       "    .dataframe tbody tr th {\n",
       "        vertical-align: top;\n",
       "    }\n",
       "\n",
       "    .dataframe thead th {\n",
       "        text-align: right;\n",
       "    }\n",
       "</style>\n",
       "<table border=\"1\" class=\"dataframe\">\n",
       "  <thead>\n",
       "    <tr style=\"text-align: right;\">\n",
       "      <th></th>\n",
       "      <th>body_text</th>\n",
       "      <th>class</th>\n",
       "      <th>body_text</th>\n",
       "      <th>class</th>\n",
       "      <th>body_text</th>\n",
       "      <th>class</th>\n",
       "    </tr>\n",
       "  </thead>\n",
       "  <tbody>\n",
       "    <tr>\n",
       "      <th>0</th>\n",
       "      <td>Wow... Loved this place.</td>\n",
       "      <td>1</td>\n",
       "      <td>A very, very, very slow-moving, aimless movie ...</td>\n",
       "      <td>0</td>\n",
       "      <td>So there is no way for me to plug it in here i...</td>\n",
       "      <td>0</td>\n",
       "    </tr>\n",
       "    <tr>\n",
       "      <th>1</th>\n",
       "      <td>Crust is not good.</td>\n",
       "      <td>0</td>\n",
       "      <td>Not sure who was more lost - the flat characte...</td>\n",
       "      <td>0</td>\n",
       "      <td>Good case, Excellent value.</td>\n",
       "      <td>1</td>\n",
       "    </tr>\n",
       "  </tbody>\n",
       "</table>\n",
       "</div>"
      ],
      "text/plain": [
       "                  body_text  class  \\\n",
       "0  Wow... Loved this place.      1   \n",
       "1        Crust is not good.      0   \n",
       "\n",
       "                                           body_text  class  \\\n",
       "0  A very, very, very slow-moving, aimless movie ...      0   \n",
       "1  Not sure who was more lost - the flat characte...      0   \n",
       "\n",
       "                                           body_text  class  \n",
       "0  So there is no way for me to plug it in here i...      0  \n",
       "1                        Good case, Excellent value.      1  "
      ]
     },
     "execution_count": 11,
     "metadata": {},
     "output_type": "execute_result"
    }
   ],
   "source": [
    "#1b. Explore datasets and sanity checks\n",
    "\n",
    "# check types dataset columns\n",
    "print (pd.concat([yelp.dtypes, imdb.dtypes, amazon.dtypes], axis=1))\n",
    "print(\"\\n\")\n",
    "\n",
    "# check shape of the datasets\n",
    "print (yelp.shape, imdb.shape, amazon.shape)\n",
    "print(\"\\n\")\n",
    "\n",
    "# check labels distribution and class balance\n",
    "pd.concat([pd.crosstab(yelp['class'], columns=\"yelp_count\"), \n",
    "          pd.crosstab(imdb['class'], columns=\"imdb_count\"),\n",
    "          \n",
    "          pd.crosstab(amazon['class'], columns=\"amazon_count\")], axis=1)\n",
    "\n",
    "# confirm that there's no missing data\n",
    "pd.concat([yelp.isnull().sum(),\n",
    "          imdb.isnull().sum(),\n",
    "          \n",
    "          amazon.isnull().sum()], axis=1)\n",
    "\n",
    "# check first 2 rows\n",
    "pd.concat([yelp.head(n=2),\n",
    "          imdb.head(n=2),\n",
    "          \n",
    "          amazon.head(n=2)], axis=1)"
   ]
  },
  {
   "cell_type": "code",
   "execution_count": 12,
   "metadata": {
    "_uuid": "26b383e84050fe439b71395be81c96b1faf4faeb"
   },
   "outputs": [
    {
     "name": "stdout",
     "output_type": "stream",
     "text": [
      "<class 'pandas.core.frame.DataFrame'>\n",
      "Int64Index: 1748 entries, 0 to 747\n",
      "Data columns (total 2 columns):\n",
      "body_text    1748 non-null object\n",
      "class        1748 non-null int64\n",
      "dtypes: int64(1), object(1)\n",
      "memory usage: 41.0+ KB\n"
     ]
    }
   ],
   "source": [
    "#1c. Concatenate dataframes into train and test sets\n",
    "# trainset\n",
    "trainset = pd.concat([yelp, imdb], axis=0)\n",
    "trainset.info()"
   ]
  },
  {
   "cell_type": "code",
   "execution_count": 13,
   "metadata": {
    "_uuid": "a5afbe51f31fd648b4d4841aecd384eccd0cc913"
   },
   "outputs": [
    {
     "name": "stdout",
     "output_type": "stream",
     "text": [
      "<class 'pandas.core.frame.DataFrame'>\n",
      "RangeIndex: 1000 entries, 0 to 999\n",
      "Data columns (total 2 columns):\n",
      "body_text    1000 non-null object\n",
      "class        1000 non-null int64\n",
      "dtypes: int64(1), object(1)\n",
      "memory usage: 15.7+ KB\n"
     ]
    }
   ],
   "source": [
    "# testset\n",
    "testset = amazon.copy()\n",
    "testset.info()"
   ]
  },
  {
   "cell_type": "code",
   "execution_count": 14,
   "metadata": {
    "_uuid": "632f1d97e3367efeb1dd027fdc972520fb2c987c"
   },
   "outputs": [],
   "source": [
    "# make copies of dataframes, I'll work on the copies of orginal set\n",
    "train_df = trainset.copy()\n",
    "test_df = testset.copy()"
   ]
  },
  {
   "cell_type": "markdown",
   "metadata": {
    "_cell_guid": "33d96f42-4308-4939-83dd-45ce4554f688",
    "_uuid": "cdebadd4e6ff0b8c42250216642c27da9d4b032c"
   },
   "source": [
    "### 2. Prepare the data for input into your model."
   ]
  },
  {
   "cell_type": "markdown",
   "metadata": {
    "_uuid": "9077ead7526b948f669649d131d241c86840fe49"
   },
   "source": [
    "####  Data preparation steps in sentiment analysis -\n",
    "\n",
    "Below are some of the NLP good practices that I follow and recommend our team to do so. For this excercise, I'll use wide range of functions and builtin libraries to action these steps, \n",
    "\n",
    "Steps i to iv will be done through a single function - clean_text()\n",
    "\n",
    "i. Remove Punctuation - \n",
    "- punctuation words does not help defining the context, best to remove any punctuations marks, numerical values, links, urls and hashtags\n",
    "\n",
    "ii. Tokenize - \n",
    "- telling the model what to look at\n",
    "\n",
    "iii. Remove Stop Words - \n",
    "- likewise stopwords too does not help in defining the context, exhaustive stopwords search including language, location, time and numerals is key for performance gain\n",
    "\n",
    "iv. Stemming vs Lemmatizing - \n",
    "Stemming - \n",
    " - reduce inflectional or derived forms of a word to a common base form, this improves feature importance, basically chopping of the end of the word to leave only the base of the word, there are many stemmers included in the nltk library like porter, snowball, lancaster and regex-based. I recommend most popular -  porter stemmer\n",
    "\n",
    "Lemmatizing - \n",
    "-grouping together the inflected words to a single term identified by the word's lemma. To remove inflectional endings from the words to return to the dictionary form of the word. \n",
    "- just to explain, stemming and lemming are pretty much the same, stemming crudely chops of the end of the word using heuristics without taking context into account. \n",
    "\n",
    "- Lemmatizing is generally more accurate as it uses context to create groups of words with similar meanings based on context. But its slower than stemming. Depending on the situation and computing resources stemming can be chosen over lemmatizing but I recommend using Lemmatizing all the time. I recommend and will use WordNetLemmatizer, the most popular lemmatizer.\n",
    "\n",
    "\n",
    "v. Vectorizing - converting text to numeric form \n",
    "- encoding text as integers to create feature vectors so that model can understand the text. creting document term matrix.\n",
    "- generally speaking count vectorization is more common, however other better variations like N-grams and TF-IDF (term frequency - inverse document frequency) can be used. TF-IDF Creates a document term matrix where the columns represent single unique terms (unigrams) but the cell represents a weighting meant to represent how important a word is to a document.\n",
    "- From past experience, TF-IDF gave better performance over count or N-grams methods. Since, its weighted and takes into account word to document relationship, its more robust. Weight = tf(i,j) x log(N/df(i)). tf(i,j) = no. of times a word i occurs in document j divided by total no. of words in j; df(i) = no. of docs containing word i, N=total no. of documents\n",
    "- For this exercise I am using TF-IDF at default settings.\n",
    "\n",
    "Vectorizing test dataset\n",
    "- since the training and test data sets in the exercise comes from diffrent sources with different numbers of features, its very important to vectorize the test data using training data fit. \n",
    "\n",
    "vi. Model development - for this section of the excersize I am using powerful and efficient 'Pipeline' utilities from sklearn library\n",
    "- Select Classifiers - Considering problem in hand and dataset size, I am trying five base classifiers -  Logistic Regression (LR), SGD (LR with Stochastic Gradient Descent), Random Forest (RF), Gradient Boosting (GB) and Support Vector Machines (SVM). \n",
    "- Construct Pipelines\n",
    "- Set grid parameters\n",
    "- Construct grid searches for cross-validation\n",
    "- List piplines for iteration\n",
    "- Fit model, evaluate performance and optimise hyper-parameters to select the best model\n",
    "\n",
    "vii. Benchmarking classifier performance, model evaluation and selecting best model\n",
    "- Benchmarking results\n",
    "- Criteria for model selection - Accuracy, Overfitting, Underfitting, Fit and Predict time,  Balanced results\n",
    "\n",
    "viii. Next steps for experimentation for further optimising best models performance."
   ]
  },
  {
   "cell_type": "code",
   "execution_count": 17,
   "metadata": {
    "_cell_guid": "c93611be-e020-4236-b6c3-949318c2ede0",
    "_uuid": "387b3280752e7f665888926cc0f91fca6648981e"
   },
   "outputs": [],
   "source": [
    "stopwords = nltk.corpus.stopwords.words('english')\n",
    "ps = nltk.PorterStemmer()\n",
    "wn = nltk.WordNetLemmatizer()\n",
    "\n",
    "# Function to implement data preparation steps i to iv\n",
    "def clean_text(text):\n",
    "    text = \"\".join([word.lower() for word in text if word not in string.punctuation])\n",
    "    tokens = re.split('\\W+', text)\n",
    "    tokens = [token for token in tokens if len(token) > 1]\n",
    "    #tokens = [token for token in tokens if not token.isnumeric()]\n",
    "    tokens = [token for token in tokens if token.isalpha()]\n",
    "\n",
    "    #text = \" \".join([ps.stem(token) for token in tokens if token not in stopwords])\n",
    "    text = \" \".join([wn.lemmatize(token) for token in tokens if token not in stopwords])\n",
    "    return text"
   ]
  },
  {
   "cell_type": "code",
   "execution_count": 18,
   "metadata": {
    "_uuid": "835cfc1da72454ca2615138a2463e9b4603832da"
   },
   "outputs": [
    {
     "data": {
      "text/html": [
       "<div>\n",
       "<style scoped>\n",
       "    .dataframe tbody tr th:only-of-type {\n",
       "        vertical-align: middle;\n",
       "    }\n",
       "\n",
       "    .dataframe tbody tr th {\n",
       "        vertical-align: top;\n",
       "    }\n",
       "\n",
       "    .dataframe thead th {\n",
       "        text-align: right;\n",
       "    }\n",
       "</style>\n",
       "<table border=\"1\" class=\"dataframe\">\n",
       "  <thead>\n",
       "    <tr style=\"text-align: right;\">\n",
       "      <th></th>\n",
       "      <th>body_text</th>\n",
       "      <th>class</th>\n",
       "      <th>cleaned_text</th>\n",
       "    </tr>\n",
       "  </thead>\n",
       "  <tbody>\n",
       "    <tr>\n",
       "      <th>0</th>\n",
       "      <td>Wow... Loved this place.</td>\n",
       "      <td>1</td>\n",
       "      <td>wow loved place</td>\n",
       "    </tr>\n",
       "    <tr>\n",
       "      <th>1</th>\n",
       "      <td>Crust is not good.</td>\n",
       "      <td>0</td>\n",
       "      <td>crust good</td>\n",
       "    </tr>\n",
       "    <tr>\n",
       "      <th>2</th>\n",
       "      <td>Not tasty and the texture was just nasty.</td>\n",
       "      <td>0</td>\n",
       "      <td>tasty texture nasty</td>\n",
       "    </tr>\n",
       "    <tr>\n",
       "      <th>3</th>\n",
       "      <td>Stopped by during the late May bank holiday of...</td>\n",
       "      <td>1</td>\n",
       "      <td>stopped late may bank holiday rick steve recom...</td>\n",
       "    </tr>\n",
       "    <tr>\n",
       "      <th>4</th>\n",
       "      <td>The selection on the menu was great and so wer...</td>\n",
       "      <td>1</td>\n",
       "      <td>selection menu great price</td>\n",
       "    </tr>\n",
       "  </tbody>\n",
       "</table>\n",
       "</div>"
      ],
      "text/plain": [
       "                                           body_text  class  \\\n",
       "0                           Wow... Loved this place.      1   \n",
       "1                                 Crust is not good.      0   \n",
       "2          Not tasty and the texture was just nasty.      0   \n",
       "3  Stopped by during the late May bank holiday of...      1   \n",
       "4  The selection on the menu was great and so wer...      1   \n",
       "\n",
       "                                        cleaned_text  \n",
       "0                                    wow loved place  \n",
       "1                                         crust good  \n",
       "2                                tasty texture nasty  \n",
       "3  stopped late may bank holiday rick steve recom...  \n",
       "4                         selection menu great price  "
      ]
     },
     "execution_count": 18,
     "metadata": {},
     "output_type": "execute_result"
    }
   ],
   "source": [
    "\n",
    "# training data\n",
    "train_df['cleaned_text'] = train_df['body_text'].apply(lambda x: clean_text(x))\n",
    "train_df.head()"
   ]
  },
  {
   "cell_type": "code",
   "execution_count": 19,
   "metadata": {
    "_uuid": "ecf1a18cad4854225f134a1cd51282aa035ac843"
   },
   "outputs": [
    {
     "data": {
      "text/html": [
       "<div>\n",
       "<style scoped>\n",
       "    .dataframe tbody tr th:only-of-type {\n",
       "        vertical-align: middle;\n",
       "    }\n",
       "\n",
       "    .dataframe tbody tr th {\n",
       "        vertical-align: top;\n",
       "    }\n",
       "\n",
       "    .dataframe thead th {\n",
       "        text-align: right;\n",
       "    }\n",
       "</style>\n",
       "<table border=\"1\" class=\"dataframe\">\n",
       "  <thead>\n",
       "    <tr style=\"text-align: right;\">\n",
       "      <th></th>\n",
       "      <th>body_text</th>\n",
       "      <th>class</th>\n",
       "      <th>cleaned_text</th>\n",
       "    </tr>\n",
       "  </thead>\n",
       "  <tbody>\n",
       "    <tr>\n",
       "      <th>0</th>\n",
       "      <td>So there is no way for me to plug it in here i...</td>\n",
       "      <td>0</td>\n",
       "      <td>way plug u unless go converter</td>\n",
       "    </tr>\n",
       "    <tr>\n",
       "      <th>1</th>\n",
       "      <td>Good case, Excellent value.</td>\n",
       "      <td>1</td>\n",
       "      <td>good case excellent value</td>\n",
       "    </tr>\n",
       "    <tr>\n",
       "      <th>2</th>\n",
       "      <td>Great for the jawbone.</td>\n",
       "      <td>1</td>\n",
       "      <td>great jawbone</td>\n",
       "    </tr>\n",
       "    <tr>\n",
       "      <th>3</th>\n",
       "      <td>Tied to charger for conversations lasting more...</td>\n",
       "      <td>0</td>\n",
       "      <td>tied charger conversation lasting minutesmajor...</td>\n",
       "    </tr>\n",
       "    <tr>\n",
       "      <th>4</th>\n",
       "      <td>The mic is great.</td>\n",
       "      <td>1</td>\n",
       "      <td>mic great</td>\n",
       "    </tr>\n",
       "  </tbody>\n",
       "</table>\n",
       "</div>"
      ],
      "text/plain": [
       "                                           body_text  class  \\\n",
       "0  So there is no way for me to plug it in here i...      0   \n",
       "1                        Good case, Excellent value.      1   \n",
       "2                             Great for the jawbone.      1   \n",
       "3  Tied to charger for conversations lasting more...      0   \n",
       "4                                  The mic is great.      1   \n",
       "\n",
       "                                        cleaned_text  \n",
       "0                     way plug u unless go converter  \n",
       "1                          good case excellent value  \n",
       "2                                      great jawbone  \n",
       "3  tied charger conversation lasting minutesmajor...  \n",
       "4                                          mic great  "
      ]
     },
     "execution_count": 19,
     "metadata": {},
     "output_type": "execute_result"
    }
   ],
   "source": [
    "#Q2 soln.\n",
    "# test data\n",
    "test_df['cleaned_text'] = test_df['body_text'].apply(lambda x: clean_text(x))\n",
    "test_df.head()"
   ]
  },
  {
   "cell_type": "markdown",
   "metadata": {
    "_cell_guid": "a8240a39-7002-435b-ba45-ac859d209f7f",
    "_uuid": "69c6d7ea240a191abfaaf00574f09521944387d7"
   },
   "source": [
    "#### 2a: Finding the ten most frequent words in the training set."
   ]
  },
  {
   "cell_type": "code",
   "execution_count": 20,
   "metadata": {
    "_cell_guid": "c57d7963-4d3e-44d0-a990-abe6b1c68d98",
    "_uuid": "8c2f4dc8614ede032e7f091584d33ac89d1e736b"
   },
   "outputs": [
    {
     "data": {
      "text/plain": [
       "[(u'movie', 208),\n",
       " (u'film', 182),\n",
       " (u'good', 151),\n",
       " (u'food', 125),\n",
       " (u'place', 118),\n",
       " (u'great', 110),\n",
       " (u'one', 97),\n",
       " (u'bad', 85),\n",
       " (u'time', 80),\n",
       " (u'service', 79)]"
      ]
     },
     "execution_count": 20,
     "metadata": {},
     "output_type": "execute_result"
    }
   ],
   "source": [
    "\n",
    "# calculate word frequencies\n",
    "word_freq = WordCloud().process_text( ' '.join(train_df['cleaned_text']) ) \n",
    "top10 = sorted(word_freq.items(), key=operator.itemgetter(1), reverse=True)[:10]\n",
    "top10"
   ]
  },
  {
   "cell_type": "code",
   "execution_count": 21,
   "metadata": {
    "_uuid": "7fb4cc3b8b30d6e98b85d6d6faa301b559d34073"
   },
   "outputs": [
    {
     "data": {
      "image/png": "[encoded data removed]",
      "text/plain": [
       "<Figure size 720x720 with 1 Axes>"
      ]
     },
     "metadata": {
      "needs_background": "light"
     },
     "output_type": "display_data"
    }
   ],
   "source": [
    "\n",
    "# plot top 10 word frequencies\n",
    "wordcloud = WordCloud(max_font_size=80, max_words=10, background_color=\"white\").generate_from_frequencies(word_freq)\n",
    "plt.figure(figsize=[10,10])\n",
    "plt.imshow(wordcloud, interpolation=\"bilinear\")\n",
    "plt.axis(\"off\")\n",
    "plt.show()"
   ]
  },
  {
   "cell_type": "markdown",
   "metadata": {
    "_cell_guid": "f4cc399e-66c4-4bf7-a8e1-03711372c7b4",
    "_uuid": "eb8b033dc4a841702ae52d4ec71e7718b3257dda"
   },
   "source": [
    "\n",
    "### 3. Train your model and justify your choices."
   ]
  },
  {
   "cell_type": "code",
   "execution_count": 22,
   "metadata": {
    "_cell_guid": "15054516-cd79-4593-aeef-e06d76e10981",
    "_uuid": "1a128a28c02359118e3f01160fdff293531e4cc8"
   },
   "outputs": [
    {
     "name": "stdout",
     "output_type": "stream",
     "text": [
      "(1748, 3909)\n",
      "(1000, 3909)\n",
      "[u'aailiyah', u'abandoned', u'ability', u'abroad', u'absolute', u'absolutely', u'absolutley', u'abstruse', u'abysmal', u'academy', u'accent', u'accessible', u'accident', u'acclaimed', u'accolade', u'accommodation', u'accomodate', u'accordingly', u'accountant', u'accurate', u'accurately', u'accused', u'ache', u'achievement', u'achille', u'ackerman', u'acknowledged', u'across', u'act', u'acted', u'acting', u'actingeven', u'actingwise', u'action', u'actor', u'actorsan', u'actress', u'actual', u'actually', u'adam', u'adaptation', u'add', u'added', u'addition', u'admins', u'admiration', u'admitted', u'adorable', u'adorablehis', u'adorablethe']\n"
     ]
    }
   ],
   "source": [
    "\n",
    "# v. Vectorizing Data: TF-IDF - Using default parameters for this exercise. Vectorisation methods and hyperparameters can be optimised.\n",
    "\n",
    "# initiate TF-IDF vectorizer\n",
    "tfidf_vect = TfidfVectorizer()\n",
    "\n",
    "# fit training data\n",
    "X_tfidf_fit = tfidf_vect.fit(train_df['cleaned_text'])\n",
    "\n",
    "# transform training and test data using fit object\n",
    "X_train = X_tfidf_fit.transform(train_df['cleaned_text'])\n",
    "X_test = X_tfidf_fit.transform(test_df['cleaned_text'])\n",
    "\n",
    "y_train = train_df['class']\n",
    "y_test = test_df['class']\n",
    "\n",
    "# numbers of features in train and test data must be same\n",
    "print(X_train.shape)\n",
    "print(X_test.shape)\n",
    "\n",
    "print(tfidf_vect.get_feature_names()[0:50])"
   ]
  },
  {
   "cell_type": "code",
   "execution_count": 23,
   "metadata": {
    "_uuid": "3749dc9d0a4f874fdc5ef33c5ee9f2dcb8580d18"
   },
   "outputs": [],
   "source": [
    "\n",
    "# Vi.a Construct pipelines - classifiers : LR, SGD, RF, GB, SVM\n",
    "#Considering problem in-hand and dataset size, I am trying five base classifiers to binary classification optimisers -  \n",
    "#Logistic Regression (LR), SGD (LR with Stochastic Gradient Descent), Random Forest (RF), Gradient Boosting (GB) and Support Vector Machines (SVM). \n",
    "\n",
    "# LR - Logistic Regression\n",
    "pipeline_lr = Pipeline([\n",
    "    ('clf', LogisticRegression(random_state=42))])\n",
    "\n",
    "# SGD - Linear classifiers with Stochastic Gradient Descent training.\n",
    "pipeline_sgd = Pipeline([\n",
    "     ('clf', SGDClassifier(random_state=42))])\n",
    "\n",
    "# RF - Random Forest\n",
    "pipeline_rf = Pipeline([\n",
    "    ('clf', RandomForestClassifier(random_state=42))])\n",
    "\n",
    "# gb - Gradient Boosting\n",
    "pipeline_gb = Pipeline([\n",
    "    ('clf', GradientBoostingClassifier(random_state=42))])\n",
    "\n",
    "# SVM - Support Vector Machine\n",
    "pipeline_svm = Pipeline([\n",
    "    ('clf', svm.SVC(random_state=42))])\n"
   ]
  },
  {
   "cell_type": "code",
   "execution_count": 24,
   "metadata": {
    "_uuid": "92ecfcf4b8cafc6b0f64063a0820de48a7d826ed"
   },
   "outputs": [],
   "source": [
    "\n",
    "# Vi.b set grid parameters - \n",
    "# grid parameters that are set here are found to be key in previous experimentations with these classifiers and \n",
    "# the range of values chosen here would cover the wide search space for optimal performance\n",
    "\n",
    "grid_params_lr = [{'clf__penalty': ['l1', 'l2'],\n",
    "                   'clf__C': [0.01, 0.1, 0.5, 1],\n",
    "                   'clf__solver': ['liblinear']}]\n",
    "\n",
    "grid_params_sgd = [{'clf__penalty': ['l1', 'l2', 'elasticnet'],\n",
    "                   'clf__alpha': [0.0001, 0.001, 0.01],\n",
    "                   'clf__max_iter': [3, 4, 5, 6, 7],\n",
    "                   'clf__tol': [None]}] \n",
    "\n",
    "grid_params_rf = [{'clf__n_estimators': [10, 50, 100, 150],\n",
    "                   'clf__max_depth': [7, 10, 30, 60, 90, None]}]\n",
    "                 \n",
    "grid_params_gb = [{'clf__n_estimators': [10, 50, 100, 150],\n",
    "                   'clf__max_depth': [7, 10, 11, 15],\n",
    "                   'clf__learning_rate': [0.01, 0.1]}]\n",
    "\n",
    "grid_params_svm = [{'clf__kernel': ['linear', 'poly', 'sigmoid', 'rbf'], \n",
    "                    'clf__C': [0.01, 0.1, 0.5, 1],\n",
    "                    'clf__probability' : [True]}]\n"
   ]
  },
  {
   "cell_type": "code",
   "execution_count": 25,
   "metadata": {
    "_uuid": "95023b584ef0f796a67425dce6c20c67301680d4"
   },
   "outputs": [],
   "source": [
    "\n",
    "# Vi.c Construct grid searches for cross-validation\n",
    "\n",
    "gs_lr = GridSearchCV(estimator = pipeline_lr,\n",
    "                     param_grid = grid_params_lr,\n",
    "                     scoring = 'accuracy',\n",
    "                     cv = 5, \n",
    "                     refit = True, n_jobs = -1,\n",
    "                     return_train_score = True)\n",
    "\n",
    "gs_sgd = GridSearchCV(estimator = pipeline_sgd,\n",
    "                     param_grid = grid_params_sgd,\n",
    "                     scoring = 'accuracy',\n",
    "                     cv = 5,\n",
    "                     refit = True, n_jobs = -1,\n",
    "                     return_train_score = True)\n",
    "\n",
    "gs_rf = GridSearchCV(estimator = pipeline_rf,\n",
    "                     param_grid = grid_params_rf,\n",
    "                     scoring = 'accuracy',\n",
    "                     cv = 5,\n",
    "                     refit = True, n_jobs = -1,\n",
    "                     return_train_score = True)\n",
    "\n",
    "gs_gb = GridSearchCV(estimator = pipeline_gb,\n",
    "                     param_grid = grid_params_gb,\n",
    "                     scoring = 'accuracy',\n",
    "                     cv = 5,\n",
    "                     refit = True, n_jobs = -1,\n",
    "                     return_train_score = True)\n",
    "\n",
    "gs_svm = GridSearchCV(estimator = pipeline_svm,\n",
    "                      param_grid = grid_params_svm,\n",
    "                      scoring = 'accuracy',\n",
    "                      cv = 5, \n",
    "                      refit = True, n_jobs = -1,\n",
    "                      return_train_score = True)\n"
   ]
  },
  {
   "cell_type": "code",
   "execution_count": 26,
   "metadata": {
    "_uuid": "67fbd6c1b96178a2efd85c8613a51c82ceac9dc3"
   },
   "outputs": [],
   "source": [
    "\n",
    "# Vi.d list piplines for iteration - we can chose number of models to optimise\n",
    "grids = [gs_lr, gs_sgd, gs_rf, gs_gb, gs_svm]\n",
    "         \n",
    "# Dictionary of pipelines and classifiers for referencing later\n",
    "grid_dict = {0: 'Logistic Regression', 1: 'SGD', \n",
    "             2: 'Random Forest', 3: 'Gradient Boosting',\n",
    "            4: 'SVM'}\n"
   ]
  },
  {
   "cell_type": "markdown",
   "metadata": {
    "_cell_guid": "1a5840b2-c84c-42f6-9fc9-4fed64e48298",
    "_uuid": "f4eeecd64b54cc05098affe6cca4c40204af8ecf"
   },
   "source": [
    "### 4. Evaluating model using metrics and reasoning of choices made"
   ]
  },
  {
   "cell_type": "markdown",
   "metadata": {
    "_uuid": "d15d4ffd540e7952ca0ed63439629ba2ce7d4531"
   },
   "source": [
    "- Fit model, evaluate performance and optimise hyper-parameters to select the best model\n",
    "\n",
    "vii. Benchmarking classifier performance, model evaluation and selecting best model\n",
    "- Benchmarking results\n",
    "- Criteria for model selection - Accuracy, Overfitting, Underfitting, Fit and Predict time,  Balanced results\n",
    "\n",
    "viii. Next steps for experimentation for further optimising best models performance."
   ]
  },
  {
   "cell_type": "code",
   "execution_count": 27,
   "metadata": {
    "_cell_guid": "baf7b513-b0ae-469d-911f-4ea80e7520ee",
    "_uuid": "e676def452e84b0a93e9f0ba3f917862593b619a"
   },
   "outputs": [
    {
     "name": "stdout",
     "output_type": "stream",
     "text": [
      "Performing model optimizations...\n",
      "\n",
      "Classifier: Logistic Regression\n",
      "Best params: {'clf__penalty': 'l2', 'clf__C': 1, 'clf__solver': 'liblinear'}\n",
      "Best training accuracy: 0.771\n",
      "Test set accuracy score for best params: 0.766 \n",
      "Test set evaluation metrics of model with best params: \n",
      "Precision: 0.785 / Recall: 0.732 / F1-Score: 0.758 / Accuracy: 0.766 / AUROC: 0.77\n",
      "Fit time: 0.402 / Predict time: 0.001\n",
      "\n",
      "Classifier: SGD\n",
      "Best params: {'clf__penalty': 'l2', 'clf__tol': None, 'clf__max_iter': 6, 'clf__alpha': 0.001}\n",
      "Best training accuracy: 0.779\n",
      "Test set accuracy score for best params: 0.762 \n",
      "Test set evaluation metrics of model with best params: \n",
      "Precision: 0.78 / Recall: 0.73 / F1-Score: 0.754 / Accuracy: 0.762 / AUROC: 0.76\n",
      "Fit time: 1.126 / Predict time: 0.0\n",
      "\n",
      "Classifier: Random Forest\n",
      "Best params: {'clf__max_depth': 60, 'clf__n_estimators': 150}\n",
      "Best training accuracy: 0.752\n",
      "Test set accuracy score for best params: 0.737 \n",
      "Test set evaluation metrics of model with best params: \n",
      "Precision: 0.821 / Recall: 0.606 / F1-Score: 0.697 / Accuracy: 0.737 / AUROC: 0.74\n",
      "Fit time: 16.748 / Predict time: 0.045\n",
      "\n",
      "Classifier: Gradient Boosting\n",
      "Best params: {'clf__max_depth': 11, 'clf__learning_rate': 0.1, 'clf__n_estimators': 150}\n",
      "Best training accuracy: 0.750\n",
      "Test set accuracy score for best params: 0.749 \n",
      "Test set evaluation metrics of model with best params: \n",
      "Precision: 0.825 / Recall: 0.632 / F1-Score: 0.716 / Accuracy: 0.749 / AUROC: 0.75\n",
      "Fit time: 54.136 / Predict time: 0.008\n",
      "\n",
      "Classifier: SVM\n",
      "Best params: {'clf__probability': True, 'clf__C': 0.5, 'clf__kernel': 'linear'}\n",
      "Best training accuracy: 0.773\n",
      "Test set accuracy score for best params: 0.759 \n",
      "Test set evaluation metrics of model with best params: \n",
      "Precision: 0.783 / Recall: 0.716 / F1-Score: 0.748 / Accuracy: 0.759 / AUROC: 0.76\n",
      "Fit time: 12.212 / Predict time: 0.051\n",
      "\n",
      " Classifier with best test set accuracy: Logistic Regression\n"
     ]
    }
   ],
   "source": [
    "# vi.e Fit model, evaluate performance and optimise hyper-parameters to select the best model\n",
    "warnings.filterwarnings('ignore')\n",
    "\n",
    "print('Performing model optimizations...')\n",
    "best_acc = 0.0\n",
    "best_clf = 0\n",
    "best_gs = ''\n",
    "\n",
    "for idx, gs in enumerate(grids):\n",
    "\n",
    "    print('\\nClassifier: %s' % grid_dict[idx])\n",
    "    \n",
    "    # Fit grid search\n",
    "    start = time.time()\n",
    "    gs.fit(X_train, y_train)\n",
    "    end = time.time()\n",
    "    fit_time = (end - start)\n",
    "    \n",
    "    # Best params\n",
    "    print('Best params: %s' % gs.best_params_)\n",
    "    \n",
    "    # Best training data accuracy\n",
    "    print('Best training accuracy: %.3f' % gs.best_score_)\n",
    "    \n",
    "    # Predict on test data with best params\n",
    "    start = time.time()\n",
    "    y_pred = gs.predict(X_test)\n",
    "    end = time.time()\n",
    "    predict_time = (end - start)\n",
    "\n",
    "    #y_pred_prob = gs.predict_proba(X_test)\n",
    "    \n",
    "    # Test data accuracy of model with best params\n",
    "    print('Test set accuracy score for best params: %.3f ' % accuracy_score(y_test, y_pred))\n",
    "    \n",
    "    # Test data performance measures of model with best params\n",
    "    precision, recall, fscore, support = score(y_test, y_pred, pos_label=1, average='binary')\n",
    "    print('Test set evaluation metrics of model with best params: ')\n",
    "    print('Precision: {} / Recall: {} / F1-Score: {} / Accuracy: {} / AUROC: {}'.format(round(precision, 3),\n",
    "                                                                          round(recall, 3),\n",
    "                                                                          round(fscore, 3),\n",
    "                                                                          round(accuracy_score(y_test, y_pred), 3),\n",
    "                                                                          round(roc_auc_score(y_test, y_pred), 2)))\n",
    "    print('Fit time: {} / Predict time: {}'.format(\n",
    "        round(fit_time, 3), round(predict_time, 3)))\n",
    "    \n",
    "    # Track best (highest test accuracy) model\n",
    "    if accuracy_score(y_test, y_pred) > best_acc:\n",
    "        best_acc = accuracy_score(y_test, y_pred)\n",
    "        best_gs = gs\n",
    "        best_clf = idx\n",
    "        \n",
    "print('\\n Classifier with best test set accuracy: %s' % grid_dict[best_clf])\n"
   ]
  },
  {
   "cell_type": "code",
   "execution_count": 28,
   "metadata": {
    "_uuid": "d75f381459925ef90c1c370b2fe76088bd9635f4"
   },
   "outputs": [],
   "source": [
    "# explore cross-validation results from best performing model\n",
    "# pd.DataFrame(best_gs.cv_results_).sort_values('mean_test_score', ascending=False)[0:3]"
   ]
  },
  {
   "cell_type": "code",
   "execution_count": 29,
   "metadata": {
    "_uuid": "e1545579ccefcf130ffeaa483120075b4b41675b"
   },
   "outputs": [
    {
     "name": "stdout",
     "output_type": "stream",
     "text": [
      "\n",
      "Saved Logistic Regression grid search pipeline of the best model to file: best_gs_pipeline.pkl\n"
     ]
    }
   ],
   "source": [
    "# Save best grid search pipeline to pickle file\n",
    "dump_best_gs_file = 'best_gs_pipeline.pkl'\n",
    "joblib.dump(best_gs, dump_best_gs_file, compress=1)\n",
    "\n",
    "print('\\nSaved %s grid search pipeline of the best model to file: %s' % (grid_dict[best_clf], dump_best_gs_file))"
   ]
  },
  {
   "cell_type": "markdown",
   "metadata": {
    "_uuid": "426eb7847cdbbb97130f6c7f94f2ac9c6db93e5c"
   },
   "source": [
    "\n",
    "vii. Benchmarking results - \n",
    "\n",
    "From the benchmarking excercise Logistic Regression came up as the best classifier based on accuracy. \n",
    "But its just not enough to make solid decisions. Below are some of the additional critera that I take into account for selecting best models\n",
    "\n",
    "In addition to base performance metric, \n",
    "- I looked at training and test accuracies and established that the model is not overfitting or underfitting.\n",
    "- fit and predict time, when dealing with production level model, time is key, and for real-time streaming applications predict time is crucial for business to process incoming streams quickly.\n",
    "from the benchmarking we notice that Logistic Regression is super efficient in terms of predict time.\n",
    "Fit time for SGD is better than LR but we should not worry too much about the fit time as its one time process whereas predict time can be very important.\n",
    "- precision, recall, auroc - the LR model is balances sensitivity and specificity.\n",
    "\n",
    "Outcome:   the best classifier is low-variance/low-bias Regularised Logistic Regression model\n",
    "\n",
    "Best Model Specs:  Best params: {'clf__C': 1, 'clf__penalty': 'l2', 'clf__solver': 'liblinear'}\n",
    "    \n",
    "Best training accuracy: 0.771\n",
    "Test set accuracy score for best params: 0.766 \n",
    "\n",
    "Evaluation metrics of model with best params:  Precision: 0.785 / Recall: 0.732 / F1-Score: 0.758 / Accuracy: 0.766 / AUROC: 0.77\n",
    "             \n",
    "Fit time: 0.402 / Predict time: 0.001\n",
    "    "
   ]
  },
  {
   "cell_type": "markdown",
   "metadata": {
    "_uuid": "a62145ee5f4d693d7e9ab807e60a7ed99b552196"
   },
   "source": [
    "\n",
    "viii. Next steps for further optimisation steps:  \n",
    "\n",
    "The analysis and approach presented here represents the example of an optimal approach to sentiment analysis using the NLP best practices and past experiences.\n",
    "Below are some of the steps I would do next to optimise the model development further\n",
    "- model can be tested for additional hyper-parameters with extended search space\n",
    "- try other vectorisation methods - counts, n-grams\n",
    "- optimise vectorisation methods and hyper-parameters - vect__max_df, vect__ngram_range, tfidf__use_idf, tfidf__norm etc..\n",
    "\n",
    "- investigate where our model failed to make correct predictions. Since we are using different review sources we might be missing out on domain specific key words\n",
    "- feature engineering - create new features and transformations to boost performance example, word length, percent of punctuation etc..\n",
    "\n",
    "\n"
   ]
  },
  {
   "cell_type": "code",
   "execution_count": null,
   "metadata": {
    "_uuid": "739c9d9f6df202a7b5ec97129725bef91d82af61"
   },
   "outputs": [],
   "source": []
  }
 ],
 "metadata": {
  "kernelspec": {
   "display_name": "Python 2",
   "language": "python",
   "name": "python2"
  },
  "language_info": {
   "codemirror_mode": {
    "name": "ipython",
    "version": 2
   },
   "file_extension": ".py",
   "mimetype": "text/x-python",
   "name": "python",
   "nbconvert_exporter": "python",
   "pygments_lexer": "ipython2",
   "version": "2.7.15"
  }
 },
 "nbformat": 4,
 "nbformat_minor": 2
}
